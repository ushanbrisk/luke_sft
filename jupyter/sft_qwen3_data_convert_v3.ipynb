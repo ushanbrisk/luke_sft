{
 "cells": [
  {
   "cell_type": "markdown",
   "id": "3ff6ea74",
   "metadata": {},
   "source": [
    "# 仅仅是把数据转为huggingface能够认出的格式\n",
    "\n",
    "\n",
    "\n",
    " # pip install datasets==2.18.0\n",
    " \n",
    " # modelscope需要的datasets不能超过2.19.0\n",
    " \n",
    " "
   ]
  },
  {
   "cell_type": "code",
   "execution_count": 35,
   "id": "cfd83336",
   "metadata": {},
   "outputs": [],
   "source": [
    "\n",
    "from modelscope.msdatasets import MsDataset\n",
    "import json\n",
    "import random\n",
    "import datasets\n",
    "from datasets import Dataset\n",
    "\n",
    "random.seed(1982)\n",
    "\n",
    "ds = MsDataset.load('krisfu/delicate_medical_r1_data', subset_name='default', split='train')  #modelscope dataset name here\n",
    "\n",
    "\n",
    "\n"
   ]
  },
  {
   "cell_type": "code",
   "execution_count": 36,
   "id": "5249c4b0",
   "metadata": {},
   "outputs": [],
   "source": [
    "data_list = list(ds)\n"
   ]
  },
  {
   "cell_type": "code",
   "execution_count": 37,
   "id": "f3d0cce9",
   "metadata": {},
   "outputs": [],
   "source": [
    "random.shuffle(data_list)"
   ]
  },
  {
   "cell_type": "code",
   "execution_count": 38,
   "id": "932073e3",
   "metadata": {},
   "outputs": [],
   "source": [
    "split_idx = int(len(data_list) * 0.9)"
   ]
  },
  {
   "cell_type": "code",
   "execution_count": 39,
   "id": "bcb9e5da",
   "metadata": {},
   "outputs": [],
   "source": [
    "train_data = data_list[:split_idx]\n",
    "eval_data = data_list[split_idx:]"
   ]
  },
  {
   "cell_type": "code",
   "execution_count": 40,
   "id": "08f13bfd",
   "metadata": {},
   "outputs": [],
   "source": [
    "sample = train_data[0]"
   ]
  },
  {
   "cell_type": "code",
   "execution_count": 41,
   "id": "83994c48",
   "metadata": {},
   "outputs": [],
   "source": [
    "train_dict = dict()\n",
    "eval_dict = dict()\n"
   ]
  },
  {
   "cell_type": "code",
   "execution_count": 42,
   "id": "9e20eb1c",
   "metadata": {},
   "outputs": [],
   "source": [
    "for key in sample.keys():\n",
    "    train_dict[key] =  [data[key]   for data in train_data]\n",
    "    eval_dict[key] =  [data[key]   for data in eval_data]        \n",
    "        "
   ]
  },
  {
   "cell_type": "code",
   "execution_count": 43,
   "id": "46826582",
   "metadata": {},
   "outputs": [],
   "source": [
    "\n",
    "train_dataset = Dataset.from_dict(train_dict)\n",
    "eval_dataset = Dataset.from_dict(eval_dict)\n"
   ]
  },
  {
   "cell_type": "code",
   "execution_count": 44,
   "id": "79270dc7",
   "metadata": {},
   "outputs": [
    {
     "data": {
      "text/plain": [
       "Dataset({\n",
       "    features: ['instruction', 'question', 'think', 'answer', 'metrics'],\n",
       "    num_rows: 2166\n",
       "})"
      ]
     },
     "execution_count": 44,
     "metadata": {},
     "output_type": "execute_result"
    }
   ],
   "source": [
    "train_dataset"
   ]
  },
  {
   "cell_type": "code",
   "execution_count": 45,
   "id": "ad867ef7",
   "metadata": {},
   "outputs": [
    {
     "data": {
      "text/plain": [
       "Dataset({\n",
       "    features: ['instruction', 'question', 'think', 'answer', 'metrics'],\n",
       "    num_rows: 241\n",
       "})"
      ]
     },
     "execution_count": 45,
     "metadata": {},
     "output_type": "execute_result"
    }
   ],
   "source": [
    "eval_dataset"
   ]
  },
  {
   "cell_type": "code",
   "execution_count": 46,
   "id": "92c3a247",
   "metadata": {},
   "outputs": [],
   "source": [
    "final_data = datasets.DatasetDict({\"train\":train_dataset, \"eval\":eval_dataset})\n",
    "\n"
   ]
  },
  {
   "cell_type": "code",
   "execution_count": 47,
   "id": "bca3cb53",
   "metadata": {},
   "outputs": [
    {
     "data": {
      "text/plain": [
       "DatasetDict({\n",
       "    train: Dataset({\n",
       "        features: ['instruction', 'question', 'think', 'answer', 'metrics'],\n",
       "        num_rows: 2166\n",
       "    })\n",
       "    eval: Dataset({\n",
       "        features: ['instruction', 'question', 'think', 'answer', 'metrics'],\n",
       "        num_rows: 241\n",
       "    })\n",
       "})"
      ]
     },
     "execution_count": 47,
     "metadata": {},
     "output_type": "execute_result"
    }
   ],
   "source": [
    "final_data"
   ]
  },
  {
   "cell_type": "code",
   "execution_count": 49,
   "id": "4ce8fbc0",
   "metadata": {},
   "outputs": [
    {
     "data": {
      "application/vnd.jupyter.widget-view+json": {
       "model_id": "c6d8044754b64af482dd3e10f1f0d502",
       "version_major": 2,
       "version_minor": 0
      },
      "text/plain": [
       "Uploading the dataset shards:   0%|          | 0/1 [00:00<?, ?it/s]"
      ]
     },
     "metadata": {},
     "output_type": "display_data"
    },
    {
     "data": {
      "application/vnd.jupyter.widget-view+json": {
       "model_id": "ce86e28221f744729403797c46a8d222",
       "version_major": 2,
       "version_minor": 0
      },
      "text/plain": [
       "Creating parquet from Arrow format:   0%|          | 0/3 [00:00<?, ?ba/s]"
      ]
     },
     "metadata": {},
     "output_type": "display_data"
    },
    {
     "name": "stderr",
     "output_type": "stream",
     "text": [
      "Uploading files as a binary IO buffer is not supported by Xet Storage. Falling back to HTTP upload.\n"
     ]
    },
    {
     "data": {
      "application/vnd.jupyter.widget-view+json": {
       "model_id": "9c14014468ac4b05b40a300a07e22228",
       "version_major": 2,
       "version_minor": 0
      },
      "text/plain": [
       "Uploading the dataset shards:   0%|          | 0/1 [00:00<?, ?it/s]"
      ]
     },
     "metadata": {},
     "output_type": "display_data"
    },
    {
     "data": {
      "application/vnd.jupyter.widget-view+json": {
       "model_id": "f36a3ad7847e4f99bcda518c7fd742d7",
       "version_major": 2,
       "version_minor": 0
      },
      "text/plain": [
       "Creating parquet from Arrow format:   0%|          | 0/1 [00:00<?, ?ba/s]"
      ]
     },
     "metadata": {},
     "output_type": "display_data"
    },
    {
     "name": "stderr",
     "output_type": "stream",
     "text": [
      "Uploading files as a binary IO buffer is not supported by Xet Storage. Falling back to HTTP upload.\n"
     ]
    },
    {
     "data": {
      "text/plain": [
       "CommitInfo(commit_url='https://huggingface.co/datasets/lukedai/delicate_medical_r1_data_eval/commit/2b26b22e258a1e3a6b91518fe0f54a5dbcc6a78a', commit_message='Upload dataset', commit_description='', oid='2b26b22e258a1e3a6b91518fe0f54a5dbcc6a78a', pr_url=None, repo_url=RepoUrl('https://huggingface.co/datasets/lukedai/delicate_medical_r1_data_eval', endpoint='https://huggingface.co', repo_type='dataset', repo_id='lukedai/delicate_medical_r1_data_eval'), pr_revision=None, pr_num=None)"
      ]
     },
     "execution_count": 49,
     "metadata": {},
     "output_type": "execute_result"
    }
   ],
   "source": [
    "final_data.push_to_hub(\"lukedai/delicate_medical_r1_data_eval\")"
   ]
  },
  {
   "cell_type": "code",
   "execution_count": 50,
   "id": "49a71400",
   "metadata": {},
   "outputs": [
    {
     "data": {
      "application/vnd.jupyter.widget-view+json": {
       "model_id": "94e79b286d5642bba55ee825d0a8fcbf",
       "version_major": 2,
       "version_minor": 0
      },
      "text/plain": [
       "Downloading readme:   0%|          | 0.00/558 [00:00<?, ?B/s]"
      ]
     },
     "metadata": {},
     "output_type": "display_data"
    },
    {
     "name": "stderr",
     "output_type": "stream",
     "text": [
      "Downloading data: 100%|█████████████████████████████████████████████████████████████████████████████████████████████████████████████████████████████████████████████████████| 4.47M/4.47M [00:02<00:00, 1.85MB/s]\n",
      "Downloading data: 100%|████████████████████████████████████████████████████████████████████████████████████████████████████████████████████████████████████████████████████████| 498k/498k [00:00<00:00, 671kB/s]\n"
     ]
    },
    {
     "data": {
      "application/vnd.jupyter.widget-view+json": {
       "model_id": "8e789ad4b8c241daa419067e3fbbef01",
       "version_major": 2,
       "version_minor": 0
      },
      "text/plain": [
       "Generating train split:   0%|          | 0/2166 [00:00<?, ? examples/s]"
      ]
     },
     "metadata": {},
     "output_type": "display_data"
    },
    {
     "data": {
      "application/vnd.jupyter.widget-view+json": {
       "model_id": "1eeccc1f3a7742d5947afdbfd708d052",
       "version_major": 2,
       "version_minor": 0
      },
      "text/plain": [
       "Generating eval split:   0%|          | 0/241 [00:00<?, ? examples/s]"
      ]
     },
     "metadata": {},
     "output_type": "display_data"
    }
   ],
   "source": [
    "from datasets import load_dataset\n",
    "dataset2 = load_dataset(\"lukedai/delicate_medical_r1_data_eval\")\n",
    "\n"
   ]
  },
  {
   "cell_type": "code",
   "execution_count": 51,
   "id": "ee132fd8",
   "metadata": {},
   "outputs": [
    {
     "data": {
      "text/plain": [
       "DatasetDict({\n",
       "    train: Dataset({\n",
       "        features: ['instruction', 'question', 'think', 'answer', 'metrics'],\n",
       "        num_rows: 2166\n",
       "    })\n",
       "    eval: Dataset({\n",
       "        features: ['instruction', 'question', 'think', 'answer', 'metrics'],\n",
       "        num_rows: 241\n",
       "    })\n",
       "})"
      ]
     },
     "execution_count": 51,
     "metadata": {},
     "output_type": "execute_result"
    }
   ],
   "source": [
    "dataset2"
   ]
  },
  {
   "cell_type": "code",
   "execution_count": 52,
   "id": "c5c85232",
   "metadata": {},
   "outputs": [
    {
     "data": {
      "text/plain": [
       "Dataset({\n",
       "    features: ['instruction', 'question', 'think', 'answer', 'metrics'],\n",
       "    num_rows: 2166\n",
       "})"
      ]
     },
     "execution_count": 52,
     "metadata": {},
     "output_type": "execute_result"
    }
   ],
   "source": [
    "dataset3 = load_dataset(\"lukedai/delicate_medical_r1_data_eval\", split='train')\n",
    "dataset3"
   ]
  },
  {
   "cell_type": "code",
   "execution_count": null,
   "id": "c2290cd0",
   "metadata": {},
   "outputs": [],
   "source": []
  }
 ],
 "metadata": {
  "kernelspec": {
   "display_name": "Python 3 (ipykernel)",
   "language": "python",
   "name": "python3"
  },
  "language_info": {
   "codemirror_mode": {
    "name": "ipython",
    "version": 3
   },
   "file_extension": ".py",
   "mimetype": "text/x-python",
   "name": "python",
   "nbconvert_exporter": "python",
   "pygments_lexer": "ipython3",
   "version": "3.11.0"
  }
 },
 "nbformat": 4,
 "nbformat_minor": 5
}
